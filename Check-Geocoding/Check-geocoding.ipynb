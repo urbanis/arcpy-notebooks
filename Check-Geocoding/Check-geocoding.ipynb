{
 "cells": [
  {
   "cell_type": "markdown",
   "metadata": {},
   "source": [
    "# Check Geocoding"
   ]
  },
  {
   "cell_type": "markdown",
   "metadata": {},
   "source": [
    "**PART1.-** Check input_data, if the input to geocode is in the street <br />\n",
    "**PART2.-** Check results through geocoding"
   ]
  },
  {
   "cell_type": "code",
   "execution_count": 31,
   "metadata": {},
   "outputs": [],
   "source": [
    "import pandas as pd\n",
    "import arcpy\n",
    "from arcgis import GIS\n",
    "import numpy as np"
   ]
  },
  {
   "cell_type": "code",
   "execution_count": 32,
   "metadata": {},
   "outputs": [],
   "source": [
    "gdb = 'C:/Users/Nisleida Morales/OneDrive/Documentos/ArcGIS/Projects/Default.gdb'\n",
    "streets = gdb + '/Streets'\n",
    "tableToGeocode = gdb + '/tableToGeocode'"
   ]
  },
  {
   "cell_type": "markdown",
   "metadata": {},
   "source": [
    "## Part 1"
   ]
  },
  {
   "cell_type": "markdown",
   "metadata": {},
   "source": [
    "### Read Input Data (Streets and TableToGeocode)"
   ]
  },
  {
   "cell_type": "code",
   "execution_count": 47,
   "metadata": {},
   "outputs": [],
   "source": [
    "fields_streets = [\"LOC_CALLE\",\"DESDEI\",\"DESDED\",\"HASTAI\",\"HASTAD\",\"OBJECTID\"]\n",
    "fields_tableToGeocode = [\"LOC_CALLE\",\"PUERTA\",\"VALIDACION\",\"OBJECTID\"]\n",
    "df_streets = pd.DataFrame(arcpy.da.FeatureClassToNumPyArray(in_table=streets,field_names = fields_streets))\n",
    "df_tableToGeocode = pd.DataFrame(arcpy.da.FeatureClassToNumPyArray(in_table=tableToGeocode, field_names = fields_tableToGeocode))"
   ]
  },
  {
   "cell_type": "markdown",
   "metadata": {},
   "source": [
    "### Substract records where City and Street exist"
   ]
  },
  {
   "cell_type": "code",
   "execution_count": 48,
   "metadata": {},
   "outputs": [],
   "source": [
    "messageValidCityStreet = 'ValidCityStreet'\n",
    "messageNotValidCityStreet = 'NotValidCityStreet'\n",
    "\n",
    "df_tableToGeocode['VALIDACION'] = np.where(df_tableToGeocode['LOC_CALLE'].isin(df_streets['LOC_CALLE']),messageValidCityStreet,messageNotValidCityStreet)"
   ]
  },
  {
   "cell_type": "code",
   "execution_count": 49,
   "metadata": {},
   "outputs": [
    {
     "data": {
      "text/html": [
       "<div>\n",
       "<style scoped>\n",
       "    .dataframe tbody tr th:only-of-type {\n",
       "        vertical-align: middle;\n",
       "    }\n",
       "\n",
       "    .dataframe tbody tr th {\n",
       "        vertical-align: top;\n",
       "    }\n",
       "\n",
       "    .dataframe thead th {\n",
       "        text-align: right;\n",
       "    }\n",
       "</style>\n",
       "<table border=\"1\" class=\"dataframe\">\n",
       "  <thead>\n",
       "    <tr style=\"text-align: right;\">\n",
       "      <th></th>\n",
       "      <th>LOC_CALLE</th>\n",
       "      <th>PUERTA</th>\n",
       "      <th>OBJECTID</th>\n",
       "    </tr>\n",
       "    <tr>\n",
       "      <th>VALIDACION</th>\n",
       "      <th></th>\n",
       "      <th></th>\n",
       "      <th></th>\n",
       "    </tr>\n",
       "  </thead>\n",
       "  <tbody>\n",
       "    <tr>\n",
       "      <th>NotValidCityStreet</th>\n",
       "      <td>35435</td>\n",
       "      <td>35435</td>\n",
       "      <td>35435</td>\n",
       "    </tr>\n",
       "    <tr>\n",
       "      <th>ValidCityStreet</th>\n",
       "      <td>785115</td>\n",
       "      <td>785115</td>\n",
       "      <td>785115</td>\n",
       "    </tr>\n",
       "  </tbody>\n",
       "</table>\n",
       "</div>"
      ],
      "text/plain": [
       "                    LOC_CALLE  PUERTA  OBJECTID\n",
       "VALIDACION                                     \n",
       "NotValidCityStreet      35435   35435     35435\n",
       "ValidCityStreet        785115  785115    785115"
      ]
     },
     "execution_count": 49,
     "metadata": {},
     "output_type": "execute_result"
    }
   ],
   "source": [
    "df_tableToGeocode.groupby(['VALIDACION']).count()"
   ]
  },
  {
   "cell_type": "code",
   "execution_count": 52,
   "metadata": {},
   "outputs": [],
   "source": [
    "df_valid=df_tableToGeocode[df_tableToGeocode.VALIDACION==messageValidCityStreet]"
   ]
  },
  {
   "cell_type": "markdown",
   "metadata": {},
   "source": [
    "### Calculate min, max range for dual streets"
   ]
  },
  {
   "cell_type": "code",
   "execution_count": 53,
   "metadata": {},
   "outputs": [
    {
     "data": {
      "text/html": [
       "<div>\n",
       "<style scoped>\n",
       "    .dataframe tbody tr th:only-of-type {\n",
       "        vertical-align: middle;\n",
       "    }\n",
       "\n",
       "    .dataframe tbody tr th {\n",
       "        vertical-align: top;\n",
       "    }\n",
       "\n",
       "    .dataframe thead th {\n",
       "        text-align: right;\n",
       "    }\n",
       "</style>\n",
       "<table border=\"1\" class=\"dataframe\">\n",
       "  <thead>\n",
       "    <tr style=\"text-align: right;\">\n",
       "      <th></th>\n",
       "      <th>LOC_CALLE</th>\n",
       "      <th>DESDEI</th>\n",
       "      <th>DESDED</th>\n",
       "      <th>HASTAI</th>\n",
       "      <th>HASTAD</th>\n",
       "      <th>OBJECTID</th>\n",
       "      <th>max_value</th>\n",
       "      <th>min_value</th>\n",
       "    </tr>\n",
       "  </thead>\n",
       "  <tbody>\n",
       "    <tr>\n",
       "      <th>0</th>\n",
       "      <td>68-33</td>\n",
       "      <td>577</td>\n",
       "      <td>576</td>\n",
       "      <td>589</td>\n",
       "      <td>588</td>\n",
       "      <td>1</td>\n",
       "      <td>589</td>\n",
       "      <td>576</td>\n",
       "    </tr>\n",
       "    <tr>\n",
       "      <th>1</th>\n",
       "      <td>68-33</td>\n",
       "      <td>501</td>\n",
       "      <td>500</td>\n",
       "      <td>575</td>\n",
       "      <td>574</td>\n",
       "      <td>2</td>\n",
       "      <td>575</td>\n",
       "      <td>500</td>\n",
       "    </tr>\n",
       "    <tr>\n",
       "      <th>2</th>\n",
       "      <td>68-33</td>\n",
       "      <td>401</td>\n",
       "      <td>400</td>\n",
       "      <td>499</td>\n",
       "      <td>498</td>\n",
       "      <td>3</td>\n",
       "      <td>499</td>\n",
       "      <td>400</td>\n",
       "    </tr>\n",
       "    <tr>\n",
       "      <th>3</th>\n",
       "      <td>68-33</td>\n",
       "      <td>301</td>\n",
       "      <td>300</td>\n",
       "      <td>399</td>\n",
       "      <td>398</td>\n",
       "      <td>4</td>\n",
       "      <td>399</td>\n",
       "      <td>300</td>\n",
       "    </tr>\n",
       "    <tr>\n",
       "      <th>4</th>\n",
       "      <td>68-48</td>\n",
       "      <td>200</td>\n",
       "      <td>201</td>\n",
       "      <td>298</td>\n",
       "      <td>299</td>\n",
       "      <td>5</td>\n",
       "      <td>299</td>\n",
       "      <td>200</td>\n",
       "    </tr>\n",
       "    <tr>\n",
       "      <th>...</th>\n",
       "      <td>...</td>\n",
       "      <td>...</td>\n",
       "      <td>...</td>\n",
       "      <td>...</td>\n",
       "      <td>...</td>\n",
       "      <td>...</td>\n",
       "      <td>...</td>\n",
       "      <td>...</td>\n",
       "    </tr>\n",
       "    <tr>\n",
       "      <th>107589</th>\n",
       "      <td>12-R57</td>\n",
       "      <td>0</td>\n",
       "      <td>800</td>\n",
       "      <td>0</td>\n",
       "      <td>898</td>\n",
       "      <td>107590</td>\n",
       "      <td>898</td>\n",
       "      <td>0</td>\n",
       "    </tr>\n",
       "    <tr>\n",
       "      <th>107590</th>\n",
       "      <td>12-F85</td>\n",
       "      <td>151</td>\n",
       "      <td>0</td>\n",
       "      <td>199</td>\n",
       "      <td>0</td>\n",
       "      <td>107591</td>\n",
       "      <td>199</td>\n",
       "      <td>0</td>\n",
       "    </tr>\n",
       "    <tr>\n",
       "      <th>107591</th>\n",
       "      <td>12-F85</td>\n",
       "      <td>0</td>\n",
       "      <td>150</td>\n",
       "      <td>0</td>\n",
       "      <td>198</td>\n",
       "      <td>107592</td>\n",
       "      <td>198</td>\n",
       "      <td>0</td>\n",
       "    </tr>\n",
       "    <tr>\n",
       "      <th>107592</th>\n",
       "      <td>12-F85</td>\n",
       "      <td>0</td>\n",
       "      <td>0</td>\n",
       "      <td>0</td>\n",
       "      <td>0</td>\n",
       "      <td>107593</td>\n",
       "      <td>0</td>\n",
       "      <td>0</td>\n",
       "    </tr>\n",
       "    <tr>\n",
       "      <th>107593</th>\n",
       "      <td>12-H41</td>\n",
       "      <td>151</td>\n",
       "      <td>150</td>\n",
       "      <td>199</td>\n",
       "      <td>198</td>\n",
       "      <td>107594</td>\n",
       "      <td>199</td>\n",
       "      <td>150</td>\n",
       "    </tr>\n",
       "  </tbody>\n",
       "</table>\n",
       "<p>107594 rows × 8 columns</p>\n",
       "</div>"
      ],
      "text/plain": [
       "       LOC_CALLE  DESDEI  DESDED  ...  OBJECTID  max_value  min_value\n",
       "0          68-33     577     576  ...         1        589        576\n",
       "1          68-33     501     500  ...         2        575        500\n",
       "2          68-33     401     400  ...         3        499        400\n",
       "3          68-33     301     300  ...         4        399        300\n",
       "4          68-48     200     201  ...         5        299        200\n",
       "...          ...     ...     ...  ...       ...        ...        ...\n",
       "107589    12-R57       0     800  ...    107590        898          0\n",
       "107590    12-F85     151       0  ...    107591        199          0\n",
       "107591    12-F85       0     150  ...    107592        198          0\n",
       "107592    12-F85       0       0  ...    107593          0          0\n",
       "107593    12-H41     151     150  ...    107594        199        150\n",
       "\n",
       "[107594 rows x 8 columns]"
      ]
     },
     "execution_count": 53,
     "metadata": {},
     "output_type": "execute_result"
    }
   ],
   "source": [
    "df_streets['max_value'] = df_streets[['DESDEI','DESDED','HASTAI','HASTAD']].max(axis=1)\n",
    "df_streets['min_value'] = df_streets[['DESDEI','DESDED','HASTAI','HASTAD']].min(axis=1)\n",
    "df_streets"
   ]
  },
  {
   "cell_type": "markdown",
   "metadata": {},
   "source": [
    "### Check if the input data is in the street file"
   ]
  },
  {
   "cell_type": "code",
   "execution_count": 42,
   "metadata": {},
   "outputs": [
    {
     "name": "stdout",
     "output_type": "stream",
     "text": [
      "Empty DataFrame\n",
      "Columns: [LOC_CALLE, PUERTA, VALIDACION, OBJECTID]\n",
      "Index: []\n"
     ]
    }
   ],
   "source": [
    "for row_valid in df_valid.index:\n",
    "    for row in df_streets.index:\n",
    "        DESDE=df_streets['min_value'][row]\n",
    "        HASTA=df_streets['max_value'][row]\n",
    "        IS_LOC_CALLE_VALID= df_valid['LOC_CALLE'][row_valid]==df_streets['LOC_CALLE'][row]\n",
    "        PUERTA=df_valid['PUERTA'][row_valid]\n",
    "        \n",
    "        \n",
    "        if IS_LOC_CALLE_VALID and ((PUERTA>=DESDE and PUERTA<=HASTA)):\n",
    "            df_valid['VALIDACIONES']= 'VALIDO'\n",
    "            \n",
    "print(df_valid)           \n"
   ]
  },
  {
   "cell_type": "markdown",
   "metadata": {
    "heading_collapsed": true
   },
   "source": [
    "### For original values dual range"
   ]
  },
  {
   "cell_type": "code",
   "execution_count": null,
   "metadata": {
    "hidden": true
   },
   "outputs": [],
   "source": [
    "for row_valid in df_valid.index:\n",
    "    for row in df_streets.index:\n",
    "        DESDEI=df_streets['DESDEI'][row]\n",
    "        HASTAI=df_streets['HASTAI'][row]\n",
    "        DESDED=df_streets['DESDED'][row]\n",
    "        HASTAD=df_streets['HASTAD'][row]\n",
    "        IS_LOC_CALLE_VALID= df_valid['LOC_CALLE'][row_valid]==df_streets['LOC_CALLE'][row]\n",
    "        PUERTA=df_valid['PUERTA'][row_valid]\n",
    "        \n",
    "        \n",
    "        if IS_LOC_CALLE_VALID and ((PUERTA>=DESDEI and PUERTA<=HASTAI) or (PUERTA>=DESDED and PUERTA<=HASTAD)):\n",
    "            df_valid['VALIDACIONES']= 'VALIDO'\n",
    "            \n",
    "print(df_valid)\n",
    "            \n"
   ]
  }
 ],
 "metadata": {
  "kernelspec": {
   "display_name": "ArcGISPro",
   "language": "Python",
   "name": "python3"
  },
  "language_info": {
   "file_extension": ".py",
   "name": "python",
   "version": "3"
  }
 },
 "nbformat": 4,
 "nbformat_minor": 2
}
