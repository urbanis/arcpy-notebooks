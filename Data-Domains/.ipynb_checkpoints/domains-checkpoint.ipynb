{
 "cells": [
  {
   "cell_type": "code",
   "execution_count": null,
   "metadata": {},
   "outputs": [],
   "source": [
    "import arcpy\n",
    "import csv\n",
    "import pandas as pd"
   ]
  },
  {
   "cell_type": "markdown",
   "metadata": {},
   "source": [
    "Environments"
   ]
  },
  {
   "cell_type": "code",
   "execution_count": null,
   "metadata": {},
   "outputs": [],
   "source": [
    "arcpy.env.workspace = \"C:/Users/Nisleida Morales/OneDrive - Aeroterra/Soluciones - Proyectos/1_OPEN/TIGRE\"\n",
    "\n",
    "gdb = \"BBDD_Tigre.gdb\"\n",
    "inFeatures = gdb +\"/FC_RELEV_CARTELERIA\"\n",
    "csvfile = arcpy.env.workspace + \"/dominios.csv\""
   ]
  },
  {
   "cell_type": "markdown",
   "metadata": {},
   "source": [
    "Add Fields"
   ]
  },
  {
   "cell_type": "code",
   "execution_count": null,
   "metadata": {},
   "outputs": [],
   "source": [
    "df= pd.read_csv(csvfile,sep=';')\n",
    "df"
   ]
  },
  {
   "cell_type": "code",
   "execution_count": null,
   "metadata": {},
   "outputs": [],
   "source": [
    "Fields = df['Field'].unique()"
   ]
  },
  {
   "cell_type": "code",
   "execution_count": null,
   "metadata": {},
   "outputs": [],
   "source": [
    "for Field in Fields:\n",
    "    arcpy.AddField_management(inFeatures, Field, \"TEXT\")"
   ]
  },
  {
   "cell_type": "markdown",
   "metadata": {},
   "source": [
    "Create Domains"
   ]
  },
  {
   "cell_type": "code",
   "execution_count": null,
   "metadata": {},
   "outputs": [],
   "source": [
    "Domains = df['domName'].unique()\n",
    "df_domains = df.drop_duplicates(subset=[\"domName\"],keep ='first').drop(columns=(['Field','valueCode','valueDescription']),axis=0)"
   ]
  },
  {
   "cell_type": "code",
   "execution_count": null,
   "metadata": {},
   "outputs": [],
   "source": [
    "df_domains"
   ]
  },
  {
   "cell_type": "code",
   "execution_count": null,
   "metadata": {},
   "outputs": [],
   "source": [
    "for row in df_domains.index:\n",
    "    \n",
    "    arcpy.CreateDomain_management(gdb, df_domains['domName'][row], df_domains['domDescription'][row], \"TEXT\", \"CODED\")"
   ]
  },
  {
   "cell_type": "markdown",
   "metadata": {},
   "source": [
    "Add values to domains"
   ]
  },
  {
   "cell_type": "code",
   "execution_count": null,
   "metadata": {},
   "outputs": [],
   "source": [
    "#df_domValues"
   ]
  },
  {
   "cell_type": "code",
   "execution_count": null,
   "metadata": {},
   "outputs": [],
   "source": [
    "#df_domValues = df.drop(columns=(['Field','domDescription']),axis=0)\n",
    "#df_domValues\n",
    "#for row in df_domValues.index:\n",
    "    #arcpy.management.AddCodedValueToDomain(gdb, df_domValues['domName'][row], df_domValues['valueCode'][row], df_domValues['valueDescription'][row])\n"
   ]
  },
  {
   "cell_type": "code",
   "execution_count": null,
   "metadata": {},
   "outputs": [],
   "source": [
    "#for row in df.index:\n",
    "    #arcpy.AssignDomainToField_management(inFeatures, df['Field'][row], df['domName'][row])"
   ]
  },
  {
   "cell_type": "code",
   "execution_count": null,
   "metadata": {},
   "outputs": [],
   "source": []
  }
 ],
 "metadata": {
  "kernelspec": {
   "display_name": "ArcGISPro",
   "language": "Python",
   "name": "python3"
  },
  "language_info": {
   "file_extension": ".py",
   "name": "python",
   "version": "3"
  }
 },
 "nbformat": 4,
 "nbformat_minor": 2
}
